{
 "cells": [
  {
   "cell_type": "code",
   "execution_count": 28,
   "id": "9948d568",
   "metadata": {},
   "outputs": [],
   "source": [
    "# Imports\n",
    "from fastai.vision.all import *\n",
    "from fastai.vision.widgets import *\n",
    "btn_upload = widgets.FileUpload()\n",
    "out_pl = widgets.Output()\n",
    "lbl_pred = widgets.Label()\n",
    "\n",
    "path = Path()"
   ]
  },
  {
   "cell_type": "markdown",
   "id": "d7409d4b",
   "metadata": {},
   "source": [
    "loading .pkl file......"
   ]
  },
  {
   "cell_type": "code",
   "execution_count": 22,
   "id": "f1b4ada3",
   "metadata": {},
   "outputs": [],
   "source": [
    "learn_inf = load_learner(path/'model.pkl', cpu=True)"
   ]
  },
  {
   "cell_type": "code",
   "execution_count": 25,
   "id": "5acdf7d6",
   "metadata": {},
   "outputs": [],
   "source": [
    "#load_learner??"
   ]
  },
  {
   "cell_type": "code",
   "execution_count": 26,
   "id": "9a320a90",
   "metadata": {},
   "outputs": [],
   "source": [
    "#help(load_learner)"
   ]
  },
  {
   "cell_type": "markdown",
   "id": "d99ac066",
   "metadata": {},
   "source": [
    "had load .pkl file !"
   ]
  },
  {
   "cell_type": "code",
   "execution_count": 3,
   "id": "8967e6ea",
   "metadata": {},
   "outputs": [],
   "source": [
    "# Create interface\n",
    "\n",
    "def on_data_change(change):\n",
    "    lbl_pred.value = ''\n",
    "    \n",
    "    # Load Image\n",
    "    img = PILImage.create(btn_upload.data[-1])\n",
    "    out_pl.clear_output()\n",
    "    with out_pl:\n",
    "        display(img.to_thumb(224,244))\n",
    "    \n",
    "    # Predict image\n",
    "    pred, pred_idx, probs = learn_inf.predict(img)\n",
    "    \n",
    "    lbl_pred.value = f'Prediction: {pred}; Probability: {probs[pred_idx]:.04f}'"
   ]
  },
  {
   "cell_type": "code",
   "execution_count": 4,
   "id": "116f551f",
   "metadata": {},
   "outputs": [],
   "source": [
    "btn_upload.observe(on_data_change, names=['data'])"
   ]
  },
  {
   "cell_type": "code",
   "execution_count": 5,
   "id": "13d6c59c",
   "metadata": {},
   "outputs": [
    {
     "data": {
      "application/vnd.jupyter.widget-view+json": {
       "model_id": "e2194ce4f1924721be852acf89a2090a",
       "version_major": 2,
       "version_minor": 0
      },
      "text/plain": [
       "VBox(children=(Label(value='Select an animal picture!'), FileUpload(value={}, description='Upload'), Output(),…"
      ]
     },
     "metadata": {},
     "output_type": "display_data"
    },
    {
     "data": {
      "text/html": [],
      "text/plain": [
       "<IPython.core.display.HTML object>"
      ]
     },
     "metadata": {},
     "output_type": "display_data"
    }
   ],
   "source": [
    "# Display Predictions\n",
    "#ipywidgets==\n",
    "\n",
    "display(VBox([widgets.Label('Select an animal picture!'), btn_upload, out_pl, lbl_pred]))"
   ]
  },
  {
   "cell_type": "code",
   "execution_count": null,
   "id": "273f91db",
   "metadata": {},
   "outputs": [],
   "source": []
  }
 ],
 "metadata": {
  "kernelspec": {
   "display_name": "py37",
   "language": "python",
   "name": "py37"
  },
  "language_info": {
   "codemirror_mode": {
    "name": "ipython",
    "version": 3
   },
   "file_extension": ".py",
   "mimetype": "text/x-python",
   "name": "python",
   "nbconvert_exporter": "python",
   "pygments_lexer": "ipython3",
   "version": "3.7.11"
  }
 },
 "nbformat": 4,
 "nbformat_minor": 5
}
